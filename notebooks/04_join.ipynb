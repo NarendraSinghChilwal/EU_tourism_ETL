{
 "cells": [
  {
   "cell_type": "code",
   "execution_count": null,
   "id": "a19574c0",
   "metadata": {},
   "outputs": [],
   "source": [
    "# Cell 1 — SparkSession & JDBC Setup\n",
    "from pyspark.sql import SparkSession\n",
    "import os\n",
    "\n",
    "DB_CONFIG = {\n",
    "    \"host\":     \"localhost\",\n",
    "    \"port\":     \"5432\",\n",
    "    \"user\":     \"postgres\",\n",
    "    \"password\": \"1234\",\n",
    "    \"db\":       \"tourism\",\n",
    "    \"driver\":   \"org.postgresql.Driver\"\n",
    "}\n",
    "\n",
    "spark = (\n",
    "    SparkSession.builder\n",
    "    .appName(\"04_join\")\n",
    "    .config(\"spark.jars.packages\",\"org.postgresql:postgresql:42.6.0\")\n",
    "    .getOrCreate()\n",
    ")\n",
    "spark.sparkContext.setLogLevel(\"WARN\")\n",
    "\n",
    "# Cell 2 — Read yearly tables & join\n",
    "jdbc_url = f\"jdbc:postgresql://{DB_CONFIG['host']}:{DB_CONFIG['port']}/{DB_CONFIG['db']}\"\n",
    "props = {\"user\": DB_CONFIG[\"user\"], \"password\": DB_CONFIG[\"password\"], \"driver\": DB_CONFIG[\"driver\"]}\n",
    "\n",
    "occ = spark.read.jdbc(jdbc_url, \"tourism_occupancy_yearly\", properties=props)\n",
    "cap = spark.read.jdbc(jdbc_url, \"tourism_capacity_yearly\",  properties=props)\n",
    "\n",
    "merged_final = occ.join(cap, on=[\"geo\",\"year\"], how=\"inner\")\n",
    "print(\"=== Merged schema ===\")\n",
    "merged_final.printSchema()\n",
    "print(\"=== Sample rows ===\")\n",
    "merged_final.show(5,truncate=False)\n",
    "\n",
    "# note: we do NOT write here, next task will persist\n"
   ]
  }
 ],
 "metadata": {
  "kernelspec": {
   "display_name": "Python 3.10.7 (tf_env)",
   "language": "python",
   "name": "tf_env"
  },
  "language_info": {
   "name": "python",
   "version": "3.10.7"
  }
 },
 "nbformat": 4,
 "nbformat_minor": 5
}
